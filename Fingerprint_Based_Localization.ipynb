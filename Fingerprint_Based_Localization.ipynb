{
  "nbformat": 4,
  "nbformat_minor": 0,
  "metadata": {
    "colab": {
      "name": "Fingerprint Based Localization.ipynb",
      "provenance": [],
      "collapsed_sections": [
        "cQYyWz7PDuxM",
        "3TX4Zi1EIl5P",
        "_xUlAkp8IqFA",
        "8VJYfPc_IxsQ",
        "3OFO802AJPXq"
      ]
    },
    "kernelspec": {
      "name": "python3",
      "display_name": "Python 3"
    }
  },
  "cells": [
    {
      "cell_type": "markdown",
      "metadata": {
        "id": "cQYyWz7PDuxM",
        "colab_type": "text"
      },
      "source": [
        "# Import"
      ]
    },
    {
      "cell_type": "code",
      "metadata": {
        "id": "0kdxTP43eRv_",
        "colab_type": "code",
        "outputId": "64c964eb-26ae-4c33-add7-64b6dc194cb9",
        "colab": {
          "base_uri": "https://localhost:8080/",
          "height": 34
        }
      },
      "source": [
        "#!/usr/bin/env python3\n",
        "\n",
        "import json\n",
        "from collections import defaultdict\n",
        "import statistics\n",
        "import matplotlib.pyplot as plt\n",
        "import numpy as np\n",
        "from scipy import stats\n",
        "import argparse\n",
        "from google.colab import files\n",
        "from matplotlib.pyplot import figure\n",
        "from google.colab import drive\n",
        "import pandas as pd\n",
        "import math\n",
        "drive.mount('/content/drive')"
      ],
      "execution_count": 0,
      "outputs": [
        {
          "output_type": "stream",
          "text": [
            "Drive already mounted at /content/drive; to attempt to forcibly remount, call drive.mount(\"/content/drive\", force_remount=True).\n"
          ],
          "name": "stdout"
        }
      ]
    },
    {
      "cell_type": "markdown",
      "metadata": {
        "id": "4tXY7Y2CD0f6",
        "colab_type": "text"
      },
      "source": [
        "# Functions"
      ]
    },
    {
      "cell_type": "code",
      "metadata": {
        "id": "fby4rZ2SESUM",
        "colab_type": "code",
        "colab": {}
      },
      "source": [
        "def read_csv(filename):\n",
        "  return pd.read_csv(filename, error_bad_lines=False, header=None, names = list(range(0,76)))"
      ],
      "execution_count": 0,
      "outputs": []
    },
    {
      "cell_type": "code",
      "metadata": {
        "id": "ZvCz7PiHW_-2",
        "colab_type": "code",
        "colab": {}
      },
      "source": [
        "def get_all_APs(combined_data):\n",
        "  # APdf contains AP addresses\n",
        "  APdf = combined_data.loc[:, ::2]\n",
        "  APdf.drop(APdf.columns[[0]], axis=1, inplace=True)\n",
        "\n",
        "  # Get unique AP addresses and store them in APlist\n",
        "  APlist = list()\n",
        "  for (columnName, columnData) in APdf.iteritems():\n",
        "    APlist = APlist + list(APdf[columnName].unique())\n",
        "  APlist = set(APset)\n",
        "  APlist = [x for x in APlist if str(x) != 'nan']\n",
        "  print('Total number of APs in the given dataset: ' + str(len(APlist)))\n",
        "  return APlist"
      ],
      "execution_count": 0,
      "outputs": []
    },
    {
      "cell_type": "code",
      "metadata": {
        "id": "N7zqx92VGV94",
        "colab_type": "code",
        "colab": {}
      },
      "source": [
        "def clean_data(df_toClean, column_names): \n",
        "  df_cleaned = pd.DataFrame()\n",
        "  for i in range(df_toClean.shape[0]):\n",
        "    newDfRow = []\n",
        "    for AP in column_names:\n",
        "      flag = 0\n",
        "      for col in df_toClean.iloc[i]:\n",
        "        # read the next comment\n",
        "        if flag == 1:\n",
        "          newDfRow.append(col) \n",
        "          break\n",
        "\n",
        "        # if the AP is found in the current row, set flag, so that the signal strength of the AP can be added to df_cleaned\n",
        "        if AP == col: \n",
        "          flag = 1\n",
        "\n",
        "      # if the column is not present in the current row, impute -120 dBm\n",
        "      if flag == 0: \n",
        "        newDfRow.append(-120)\n",
        "\n",
        "    # Populate cleaned dataframe\n",
        "    if i == 0:\n",
        "      df_cleaned = pd.DataFrame(np.array([newDfRow]), columns=column_names)\n",
        "    else:\n",
        "      newDfTemp = pd.DataFrame(np.array([newDfRow]), columns=column_names)\n",
        "      df_cleaned = df_cleaned.append(newDfTemp)\n",
        "  return df_cleaned"
      ],
      "execution_count": 0,
      "outputs": []
    },
    {
      "cell_type": "code",
      "metadata": {
        "id": "mF1XZOyXd7dJ",
        "colab_type": "code",
        "colab": {}
      },
      "source": [
        "def knn_est_lat_long(k_val):\n",
        "\n",
        "  # Store the original and estimated co-ordinates in positionDf dataframe\n",
        "  positionDf = pd.DataFrame()\n",
        "  positionDf_col = ['lat','long','est_lat','est_long']\n",
        "\n",
        "  for i in range(test_cleaned.shape[0]):\n",
        "\n",
        "    # Find Euclidean Distance\n",
        "    diffDf = train_cleaned.subtract(test_cleaned.iloc[i], axis=1)\n",
        "    diffDf = np.square(diffDf)\n",
        "    diffDf['sum'] = diffDf.sum(axis=1)\n",
        "    diffDf.drop(diffDf.columns.difference(['sum']), 1, inplace=True)\n",
        "    diffDf = diffDf.reset_index(drop = True) \n",
        "\n",
        "    # Filter the closest K-Nearest Neighbours\n",
        "    neighDf = diffDf.nsmallest(k_val, 'sum', keep='all')\n",
        "\n",
        "    # Estimate latitude & longitude values\n",
        "    # Sum of kNN lat & long\n",
        "    sum_lat = 0\n",
        "    sum_long = 0\n",
        "    for row in neighDf.index:\n",
        "      sum_lat += train.iloc[row][0]\n",
        "      sum_long += train.iloc[row][1]\n",
        "    # Average\n",
        "    est_lat = sum_lat/neighDf.shape[0]\n",
        "    est_long = sum_long/neighDf.shape[0]\n",
        "\n",
        "    # Update positionDf with the estimated co-ordinate values\n",
        "    if i == 0:\n",
        "      positionDf = pd.DataFrame(np.array([[test.iloc[i][0],test.iloc[i][1],est_lat,est_long]]), columns=positionDf_col)\n",
        "    else:\n",
        "      newDfTemp = pd.DataFrame(np.array([[test.iloc[i][0],test.iloc[i][1],est_lat,est_long]]), columns=positionDf_col)\n",
        "      positionDf = positionDf.append(newDfTemp)\n",
        "  print(positionDf)\n",
        "  return positionDf"
      ],
      "execution_count": 0,
      "outputs": []
    },
    {
      "cell_type": "code",
      "metadata": {
        "id": "ZOGOxZfQNj-n",
        "colab_type": "code",
        "colab": {}
      },
      "source": [
        "def calc_localization_error(positionDf):\n",
        "\n",
        "  # Calculate distance between in original & estimated position co-ordinates in miles and km\n",
        "  positionDf[\"diff_lat\"] = positionDf[\"lat\"] - positionDf[\"est_lat\"]\n",
        "  positionDf[\"diff_long\"] = positionDf[\"long\"] - positionDf[\"est_long\"]\n",
        "  a = np.square(np.sin(positionDf[\"diff_lat\"]/2)) + np.cos(positionDf[\"lat\"]) * np.cos(positionDf[\"est_lat\"]) \n",
        "                                                      * np.square(np.sin(positionDf[\"diff_long\"]/2))\n",
        "  c = 2 * np.arctan2(np.sqrt(a), np.sqrt(1-a))\n",
        "  \n",
        "  # Calculate distance in miles\n",
        "  positionDf[\"distanceMiles\"] = 3961 * c\n",
        "  \n",
        "  # Calculate distance in km\n",
        "  positionDf[\"distanceKM\"] = 6373 * c\n",
        "  print(positionDf)\n",
        "  return positionDf"
      ],
      "execution_count": 0,
      "outputs": []
    },
    {
      "cell_type": "code",
      "metadata": {
        "id": "UncmA8IjONb_",
        "colab_type": "code",
        "colab": {}
      },
      "source": [
        "def print_result(positionDf, knn_value):\n",
        "\n",
        "  # Print result in miles\n",
        "  print(\"When k = \" + str(knn_value) + \" Nearest Neighbours are considered:\")\n",
        "  print(\" Median error: \" + str(positionDf.distanceMiles.median()))\n",
        "  print(\" 67 percentile error: \" + str(positionDf.distanceMiles.quantile(0.67)))\n",
        "  print(\" 90 percentile error: \" + str(positionDf.distanceMiles.quantile(0.9)))\n",
        "  print()"
      ],
      "execution_count": 0,
      "outputs": []
    },
    {
      "cell_type": "code",
      "metadata": {
        "colab_type": "code",
        "id": "tfgdRTplRNb0",
        "colab": {}
      },
      "source": [
        "def print_result_km(positionDf, knn_value):\n",
        "  \n",
        "  # Print result in km\n",
        "  print(\"When k = \" + str(knn_value) + \" Nearest Neighbours are considered:\")\n",
        "  print(\" Median error: \" + str(positionDf.distanceKM.median()))\n",
        "  print(\" 67 percentile error: \" + str(positionDf.distanceKM.quantile(0.67)))\n",
        "  print(\" 90 percentile error: \" + str(positionDf.distanceKM.quantile(0.9)))\n",
        "  print()"
      ],
      "execution_count": 0,
      "outputs": []
    },
    {
      "cell_type": "markdown",
      "metadata": {
        "id": "3TX4Zi1EIl5P",
        "colab_type": "text"
      },
      "source": [
        "# Part 1: Initial Data Processing"
      ]
    },
    {
      "cell_type": "markdown",
      "metadata": {
        "id": "_xUlAkp8IqFA",
        "colab_type": "text"
      },
      "source": [
        "## Import csv"
      ]
    },
    {
      "cell_type": "code",
      "metadata": {
        "id": "W5BDNpayE0iU",
        "colab_type": "code",
        "outputId": "9228456b-c5b5-41a4-c042-8fbe34d39dfe",
        "colab": {
          "base_uri": "https://localhost:8080/",
          "height": 68
        }
      },
      "source": [
        "root_dir = '/content/drive/My Drive/WMN2/'\n",
        "train = read_csv(root_dir + 'Training_data.csv')\n",
        "test = read_csv(root_dir + 'Test_data.csv')\n",
        "combined_data = train.append(test)\n",
        "\n",
        "# print dataframe shapes\n",
        "print(train.shape)\n",
        "print(test.shape)\n",
        "print(combined_data.shape)"
      ],
      "execution_count": 0,
      "outputs": [
        {
          "output_type": "stream",
          "text": [
            "(1194, 76)\n",
            "(138, 76)\n",
            "(1332, 76)\n"
          ],
          "name": "stdout"
        }
      ]
    },
    {
      "cell_type": "markdown",
      "metadata": {
        "id": "8VJYfPc_IxsQ",
        "colab_type": "text"
      },
      "source": [
        "## Get the list of APs"
      ]
    },
    {
      "cell_type": "code",
      "metadata": {
        "id": "dbu4L-_EryDy",
        "colab_type": "code",
        "outputId": "ba455f7b-35cf-40f8-b471-151a48bebbd5",
        "colab": {
          "base_uri": "https://localhost:8080/",
          "height": 34
        }
      },
      "source": [
        "APlist = get_all_APs(combined_data)"
      ],
      "execution_count": 0,
      "outputs": [
        {
          "output_type": "stream",
          "text": [
            "Total number of APs in the given dataset: 837\n"
          ],
          "name": "stdout"
        }
      ]
    },
    {
      "cell_type": "markdown",
      "metadata": {
        "id": "3OFO802AJPXq",
        "colab_type": "text"
      },
      "source": [
        "## Impute missing values"
      ]
    },
    {
      "cell_type": "code",
      "metadata": {
        "colab_type": "code",
        "id": "bc96iJHoaSB2",
        "outputId": "e9f68c6c-de35-4c5b-bd3c-fbdbfe4591e3",
        "colab": {
          "base_uri": "https://localhost:8080/",
          "height": 51
        }
      },
      "source": [
        "train_cleaned = clean_data(train, APlist)\n",
        "test_cleaned = clean_data(test, APlist)\n",
        "\n",
        "# print dataframe shapes\n",
        "print(train_cleaned.shape)\n",
        "print(test_cleaned.shape)"
      ],
      "execution_count": 0,
      "outputs": [
        {
          "output_type": "stream",
          "text": [
            "(1194, 837)\n",
            "(138, 837)\n"
          ],
          "name": "stdout"
        }
      ]
    },
    {
      "cell_type": "markdown",
      "metadata": {
        "id": "gmHiQt60Jy0_",
        "colab_type": "text"
      },
      "source": [
        "# Part 2: Localization"
      ]
    },
    {
      "cell_type": "markdown",
      "metadata": {
        "id": "JwrXGOo6KciL",
        "colab_type": "text"
      },
      "source": [
        "## Find kNN & estimate latitude, longitude co-ordinates"
      ]
    },
    {
      "cell_type": "code",
      "metadata": {
        "id": "vqROIt6lBBBc",
        "colab_type": "code",
        "outputId": "4cb6c0ee-a97e-4758-98c8-4c27cdece80a",
        "colab": {
          "base_uri": "https://localhost:8080/",
          "height": 731
        }
      },
      "source": [
        "positionDf_knn3 = knn_est_lat_long(3)\n",
        "positionDf_knn4 = knn_est_lat_long(4)\n",
        "positionDf_knn5 = knn_est_lat_long(5)"
      ],
      "execution_count": 0,
      "outputs": [
        {
          "output_type": "stream",
          "text": [
            "          lat       long    est_lat   est_long\n",
            "0   40.906567 -73.108602  40.906571 -73.108614\n",
            "0   40.906597 -73.108673  40.906605 -73.108687\n",
            "0   40.906615 -73.108704  40.906625 -73.108720\n",
            "0   40.906627 -73.108725  40.906630 -73.108728\n",
            "0   40.906644 -73.108745  40.906641 -73.108741\n",
            "..        ...        ...        ...        ...\n",
            "0   40.906850 -73.108272  40.906854 -73.108281\n",
            "0   40.906842 -73.108270  40.906842 -73.108271\n",
            "0   40.906842 -73.108272  40.906842 -73.108271\n",
            "0   40.906848 -73.108266  40.906847 -73.108266\n",
            "0   40.906638 -73.108431  40.906650 -73.108426\n",
            "\n",
            "[138 rows x 4 columns]\n",
            "          lat       long    est_lat   est_long\n",
            "0   40.906567 -73.108602  40.906574 -73.108625\n",
            "0   40.906597 -73.108673  40.906606 -73.108689\n",
            "0   40.906615 -73.108704  40.906625 -73.108720\n",
            "0   40.906627 -73.108725  40.906625 -73.108720\n",
            "0   40.906644 -73.108745  40.906650 -73.108750\n",
            "..        ...        ...        ...        ...\n",
            "0   40.906850 -73.108272  40.906850 -73.108271\n",
            "0   40.906842 -73.108270  40.906842 -73.108270\n",
            "0   40.906842 -73.108272  40.906842 -73.108270\n",
            "0   40.906848 -73.108266  40.906846 -73.108266\n",
            "0   40.906638 -73.108431  40.906640 -73.108432\n",
            "\n",
            "[138 rows x 4 columns]\n",
            "          lat       long    est_lat   est_long\n",
            "0   40.906567 -73.108602  40.906574 -73.108625\n",
            "0   40.906597 -73.108673  40.906616 -73.108704\n",
            "0   40.906615 -73.108704  40.906618 -73.108708\n",
            "0   40.906627 -73.108725  40.906631 -73.108726\n",
            "0   40.906644 -73.108745  40.906650 -73.108750\n",
            "..        ...        ...        ...        ...\n",
            "0   40.906850 -73.108272  40.906850 -73.108271\n",
            "0   40.906842 -73.108270  40.906842 -73.108268\n",
            "0   40.906842 -73.108272  40.906842 -73.108268\n",
            "0   40.906848 -73.108266  40.906846 -73.108266\n",
            "0   40.906638 -73.108431  40.906640 -73.108432\n",
            "\n",
            "[138 rows x 4 columns]\n"
          ],
          "name": "stdout"
        }
      ]
    },
    {
      "cell_type": "markdown",
      "metadata": {
        "id": "B8bjhB8xLmBm",
        "colab_type": "text"
      },
      "source": [
        "## Compute Localization Error"
      ]
    },
    {
      "cell_type": "code",
      "metadata": {
        "id": "RwS6NKSznOOT",
        "colab_type": "code",
        "outputId": "a3574b83-3a9b-447f-932f-5f7b21eea265",
        "colab": {
          "base_uri": "https://localhost:8080/",
          "height": 731
        }
      },
      "source": [
        "positionDf_knn3 = calc_localization_error(positionDf_knn3)\n",
        "positionDf_knn4 = calc_localization_error(positionDf_knn4)\n",
        "positionDf_knn5 = calc_localization_error(positionDf_knn5)"
      ],
      "execution_count": 0,
      "outputs": [
        {
          "output_type": "stream",
          "text": [
            "          lat       long    est_lat  ...     diff_long  distanceMiles  distanceKM\n",
            "0   40.906567 -73.108602  40.906571  ...  1.289000e-05       0.053664    0.086342\n",
            "0   40.906597 -73.108673  40.906605  ...  1.379667e-05       0.063255    0.101774\n",
            "0   40.906615 -73.108704  40.906625  ...  1.579500e-05       0.073497    0.118252\n",
            "0   40.906627 -73.108725  40.906630  ...  3.010000e-06       0.017432    0.028047\n",
            "0   40.906644 -73.108745  40.906641  ... -3.743333e-06       0.017737    0.028538\n",
            "..        ...        ...        ...  ...           ...            ...         ...\n",
            "0   40.906850 -73.108272  40.906854  ...  8.443333e-06       0.035888    0.057741\n",
            "0   40.906842 -73.108270  40.906842  ...  1.100000e-06       0.004518    0.007269\n",
            "0   40.906842 -73.108272  40.906842  ... -5.500000e-07       0.002995    0.004818\n",
            "0   40.906848 -73.108266  40.906847  ...  1.833333e-07       0.002713    0.004365\n",
            "0   40.906638 -73.108431  40.906650  ... -5.786667e-06       0.051065    0.082161\n",
            "\n",
            "[138 rows x 8 columns]\n",
            "          lat       long    est_lat  ...     diff_long  distanceMiles  distanceKM\n",
            "0   40.906567 -73.108602  40.906574  ...  2.349400e-05       0.097521    0.156905\n",
            "0   40.906597 -73.108673  40.906606  ...  1.557500e-05       0.071780    0.115489\n",
            "0   40.906615 -73.108704  40.906625  ...  1.579500e-05       0.073497    0.118252\n",
            "0   40.906627 -73.108725  40.906625  ... -5.455000e-06       0.022966    0.036951\n",
            "0   40.906644 -73.108745  40.906650  ...  5.014000e-06       0.031121    0.050072\n",
            "..        ...        ...        ...  ...           ...            ...         ...\n",
            "0   40.906850 -73.108272  40.906850  ... -1.222000e-06       0.005289    0.008509\n",
            "0   40.906842 -73.108270  40.906842  ... -6.249999e-08       0.001185    0.001906\n",
            "0   40.906842 -73.108272  40.906842  ... -1.712500e-06       0.007055    0.011351\n",
            "0   40.906848 -73.108266  40.906846  ...  2.540000e-07       0.006198    0.009972\n",
            "0   40.906638 -73.108431  40.906640  ...  5.620000e-07       0.005783    0.009305\n",
            "\n",
            "[138 rows x 8 columns]\n",
            "          lat       long    est_lat  ...     diff_long  distanceMiles  distanceKM\n",
            "0   40.906567 -73.108602  40.906574  ...  2.349400e-05       0.097521    0.156905\n",
            "0   40.906597 -73.108673  40.906616  ...  3.093333e-05       0.143810    0.231382\n",
            "0   40.906615 -73.108704  40.906618  ...  4.440000e-06       0.020609    0.033158\n",
            "0   40.906627 -73.108725  40.906631  ...  1.422000e-06       0.015630    0.025147\n",
            "0   40.906644 -73.108745  40.906650  ...  5.014000e-06       0.031121    0.050072\n",
            "..        ...        ...        ...  ...           ...            ...         ...\n",
            "0   40.906850 -73.108272  40.906850  ... -1.222000e-06       0.005289    0.008509\n",
            "0   40.906842 -73.108270  40.906842  ... -2.258000e-06       0.009105    0.014650\n",
            "0   40.906842 -73.108272  40.906842  ... -3.908000e-06       0.015669    0.025211\n",
            "0   40.906848 -73.108266  40.906846  ...  2.540000e-07       0.006198    0.009972\n",
            "0   40.906638 -73.108431  40.906640  ...  5.620000e-07       0.005783    0.009305\n",
            "\n",
            "[138 rows x 8 columns]\n"
          ],
          "name": "stdout"
        }
      ]
    },
    {
      "cell_type": "markdown",
      "metadata": {
        "id": "tvLuwTe3M3Du",
        "colab_type": "text"
      },
      "source": [
        "# Result"
      ]
    },
    {
      "cell_type": "markdown",
      "metadata": {
        "id": "XO5rBeUtRsTO",
        "colab_type": "text"
      },
      "source": [
        "## Result in miles"
      ]
    },
    {
      "cell_type": "code",
      "metadata": {
        "id": "AWPPWl4vrz0Y",
        "colab_type": "code",
        "outputId": "24c07f78-2d24-4916-8199-26dfbb527993",
        "colab": {
          "base_uri": "https://localhost:8080/",
          "height": 272
        }
      },
      "source": [
        "print_result_miles(positionDf_knn3, 3)\n",
        "print_result_miles(positionDf_knn4, 4)\n",
        "print_result_miles(positionDf_knn5, 5)"
      ],
      "execution_count": 0,
      "outputs": [
        {
          "output_type": "stream",
          "text": [
            "When k = 3 Nearest Neighbours are considered:\n",
            " Median error: 0.05412130633831588\n",
            " 67 percentile error: 0.07257826825888594\n",
            " 90 percentile error: 0.1349382128040697\n",
            "\n",
            "When k = 4 Nearest Neighbours are considered:\n",
            " Median error: 0.06651225517358414\n",
            " 67 percentile error: 0.08843083221850023\n",
            " 90 percentile error: 0.15952889777751433\n",
            "\n",
            "When k = 5 Nearest Neighbours are considered:\n",
            " Median error: 0.07828930635986234\n",
            " 67 percentile error: 0.10608027759309598\n",
            " 90 percentile error: 0.17633717991532963\n",
            "\n"
          ],
          "name": "stdout"
        }
      ]
    },
    {
      "cell_type": "markdown",
      "metadata": {
        "id": "BcJmMTQTRwUq",
        "colab_type": "text"
      },
      "source": [
        "## Result in kilometers"
      ]
    },
    {
      "cell_type": "code",
      "metadata": {
        "colab_type": "code",
        "outputId": "32628669-000b-443a-d3d9-99cd77565410",
        "id": "3oXvQqnYRYnH",
        "colab": {
          "base_uri": "https://localhost:8080/",
          "height": 272
        }
      },
      "source": [
        "print_result_km(positionDf_knn3, 3)\n",
        "print_result_km(positionDf_knn4, 4)\n",
        "print_result_km(positionDf_knn5, 5)"
      ],
      "execution_count": 0,
      "outputs": [
        {
          "output_type": "stream",
          "text": [
            "When k = 3 Nearest Neighbours are considered:\n",
            " Median error: 0.08707777967535651\n",
            " 67 percentile error: 0.11677387114715478\n",
            " 90 percentile error: 0.21710710179256154\n",
            "\n",
            "When k = 4 Nearest Neighbours are considered:\n",
            " Median error: 0.10701403742015948\n",
            " 67 percentile error: 0.14227965001981874\n",
            " 90 percentile error: 0.2566719680727339\n",
            "\n",
            "When k = 5 Nearest Neighbours are considered:\n",
            " Median error: 0.1259625724391322\n",
            " 67 percentile error: 0.17067649813198704\n",
            " 90 percentile error: 0.28371543741489413\n",
            "\n"
          ],
          "name": "stdout"
        }
      ]
    }
  ]
}